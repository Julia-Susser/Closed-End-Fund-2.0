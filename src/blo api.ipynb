{
 "cells": [
  {
   "cell_type": "code",
   "execution_count": 1,
   "id": "9f80bf12",
   "metadata": {},
   "outputs": [
    {
     "name": "stdout",
     "output_type": "stream",
     "text": [
      "Collecting pdblp\n",
      "  Downloading pdblp-0.1.8.tar.gz (24 kB)\n",
      "  Preparing metadata (setup.py) ... \u001b[?25ldone\n",
      "\u001b[?25hRequirement already satisfied: pandas>=0.18.0 in /Library/Frameworks/Python.framework/Versions/3.10/lib/python3.10/site-packages (from pdblp) (1.3.4)\n",
      "Requirement already satisfied: pytz>=2017.3 in /Library/Frameworks/Python.framework/Versions/3.10/lib/python3.10/site-packages (from pandas>=0.18.0->pdblp) (2021.3)\n",
      "Requirement already satisfied: python-dateutil>=2.7.3 in /Library/Frameworks/Python.framework/Versions/3.10/lib/python3.10/site-packages (from pandas>=0.18.0->pdblp) (2.8.2)\n",
      "Requirement already satisfied: numpy>=1.21.0 in /Library/Frameworks/Python.framework/Versions/3.10/lib/python3.10/site-packages (from pandas>=0.18.0->pdblp) (1.21.3)\n",
      "Requirement already satisfied: six>=1.5 in /Library/Frameworks/Python.framework/Versions/3.10/lib/python3.10/site-packages (from python-dateutil>=2.7.3->pandas>=0.18.0->pdblp) (1.16.0)\n",
      "Building wheels for collected packages: pdblp\n",
      "  Building wheel for pdblp (setup.py) ... \u001b[?25ldone\n",
      "\u001b[?25h  Created wheel for pdblp: filename=pdblp-0.1.8-py3-none-any.whl size=18649 sha256=6f3ee929718388eae6fefaa60ab0854e566b1b68dd086b94205576355ea06a17\n",
      "  Stored in directory: /Users/jsusser/Library/Caches/pip/wheels/d4/5d/a3/c5bf685e879e8e4899c73d59048926f1846a08e5d141adcbda\n",
      "Successfully built pdblp\n",
      "Installing collected packages: pdblp\n",
      "Successfully installed pdblp-0.1.8\n",
      "Note: you may need to restart the kernel to use updated packages.\n"
     ]
    }
   ],
   "source": [
    "pip install pdblp"
   ]
  },
  {
   "cell_type": "code",
   "execution_count": 4,
   "id": "4fbf9403",
   "metadata": {},
   "outputs": [
    {
     "name": "stdout",
     "output_type": "stream",
     "text": [
      "\u001b[31mERROR: Invalid requirement: 'index-url=https://bloomberg.bintray.com/pip/simple'\n",
      "Hint: It looks like a path. File 'index-url=https://bloomberg.bintray.com/pip/simple' does not exist.\u001b[0m\n",
      "Note: you may need to restart the kernel to use updated packages.\n"
     ]
    }
   ],
   "source": [
    "pip install index-url=https://bloomberg.bintray.com/pip/simple blpapi"
   ]
  },
  {
   "cell_type": "code",
   "execution_count": 8,
   "id": "68837b0f",
   "metadata": {},
   "outputs": [
    {
     "name": "stdout",
     "output_type": "stream",
     "text": [
      "Collecting xbbg\n",
      "  Downloading xbbg-0.7.6-py3-none-any.whl (52 kB)\n",
      "     |████████████████████████████████| 52 kB 760 kB/s            \n",
      "\u001b[?25hCollecting pytest\n",
      "  Downloading pytest-6.2.5-py3-none-any.whl (280 kB)\n",
      "     |████████████████████████████████| 280 kB 1.5 MB/s            \n",
      "\u001b[?25hCollecting pyarrow>=1.0.1\n",
      "  Downloading pyarrow-6.0.1-cp310-cp310-macosx_10_13_x86_64.whl (19.2 MB)\n",
      "     |████████████████████████████████| 19.2 MB 973 kB/s             \n",
      "\u001b[?25hCollecting ruamel.yaml>=0.15.0\n",
      "  Downloading ruamel.yaml-0.17.17-py3-none-any.whl (109 kB)\n",
      "     |████████████████████████████████| 109 kB 10.6 MB/s            \n",
      "\u001b[?25hRequirement already satisfied: pytz>=2020.4 in /Library/Frameworks/Python.framework/Versions/3.10/lib/python3.10/site-packages (from xbbg) (2021.3)\n",
      "Requirement already satisfied: numpy>=1.15.0 in /Library/Frameworks/Python.framework/Versions/3.10/lib/python3.10/site-packages (from xbbg) (1.21.3)\n",
      "Requirement already satisfied: pandas>=1.0.0 in /Library/Frameworks/Python.framework/Versions/3.10/lib/python3.10/site-packages (from xbbg) (1.3.4)\n",
      "Requirement already satisfied: python-dateutil>=2.7.3 in /Library/Frameworks/Python.framework/Versions/3.10/lib/python3.10/site-packages (from pandas>=1.0.0->xbbg) (2.8.2)\n",
      "Requirement already satisfied: packaging in /Library/Frameworks/Python.framework/Versions/3.10/lib/python3.10/site-packages (from pytest->xbbg) (21.0)\n",
      "Collecting toml\n",
      "  Downloading toml-0.10.2-py2.py3-none-any.whl (16 kB)\n",
      "Collecting iniconfig\n",
      "  Downloading iniconfig-1.1.1-py2.py3-none-any.whl (5.0 kB)\n",
      "Collecting py>=1.8.2\n",
      "  Downloading py-1.11.0-py2.py3-none-any.whl (98 kB)\n",
      "     |████████████████████████████████| 98 kB 3.9 MB/s            \n",
      "\u001b[?25hCollecting pluggy<2.0,>=0.12\n",
      "  Downloading pluggy-1.0.0-py2.py3-none-any.whl (13 kB)\n",
      "Requirement already satisfied: attrs>=19.2.0 in /Library/Frameworks/Python.framework/Versions/3.10/lib/python3.10/site-packages (from pytest->xbbg) (21.2.0)\n",
      "Requirement already satisfied: six>=1.5 in /Library/Frameworks/Python.framework/Versions/3.10/lib/python3.10/site-packages (from python-dateutil>=2.7.3->pandas>=1.0.0->xbbg) (1.16.0)\n",
      "Requirement already satisfied: pyparsing>=2.0.2 in /Library/Frameworks/Python.framework/Versions/3.10/lib/python3.10/site-packages (from packaging->pytest->xbbg) (3.0.3)\n",
      "Installing collected packages: toml, py, pluggy, iniconfig, ruamel.yaml, pytest, pyarrow, xbbg\n",
      "Successfully installed iniconfig-1.1.1 pluggy-1.0.0 py-1.11.0 pyarrow-6.0.1 pytest-6.2.5 ruamel.yaml-0.17.17 toml-0.10.2 xbbg-0.7.6\n",
      "Note: you may need to restart the kernel to use updated packages.\n"
     ]
    }
   ],
   "source": [
    "\n",
    "pip install xbbg"
   ]
  },
  {
   "cell_type": "code",
   "execution_count": 17,
   "id": "1d392e02",
   "metadata": {},
   "outputs": [],
   "source": [
    "from xbbg import blp"
   ]
  },
  {
   "cell_type": "code",
   "execution_count": 18,
   "id": "41557297",
   "metadata": {},
   "outputs": [
    {
     "name": "stdout",
     "output_type": "stream",
     "text": [
      "\n",
      "21DEC2021_10:49:44.764 63785:123145602117632 WARN apicm_apiconnector.cpp:395 ApiConnector::socketConnectorCallback localhost: Failed to connect to 127.0.0.1:8194, status=1, error 8 connect event failed \n",
      "\n",
      "21DEC2021_10:49:44.764 63785:123145602117632 WARN blpapi_platformtransporttcp.cpp:151 blpapi.session.transporttcp.{6}.<localhost:8194> { platformId=0 } 127.0.0.1, session pool state=Failed \n",
      "\n",
      "21DEC2021_10:49:47.767 63785:123145602117632 WARN apicm_apiconnector.cpp:395 ApiConnector::socketConnectorCallback localhost: Failed to connect to 127.0.0.1:8194, status=1, error 8 connect event failed \n",
      "\n",
      "21DEC2021_10:49:47.767 63785:123145602117632 WARN blpapi_platformtransporttcp.cpp:151 blpapi.session.transporttcp.{6}.<localhost:8194> { platformId=0 } 127.0.0.1, session pool state=Failed \n",
      "\n",
      "21DEC2021_10:49:50.770 63785:123145602117632 WARN apicm_apiconnector.cpp:395 ApiConnector::socketConnectorCallback localhost: Failed to connect to 127.0.0.1:8194, status=1, error 8 connect event failed \n",
      "\n",
      "21DEC2021_10:49:50.770 63785:123145602117632 WARN blpapi_platformtransporttcp.cpp:151 blpapi.session.transporttcp.{6}.<localhost:8194> { platformId=0 } 127.0.0.1, session pool state=Failed \n",
      "\n",
      "21DEC2021_10:49:50.770 63785:123145602117632 WARN blpapi_platformcontroller.cpp:634 blpapi.session.platformcontroller.{6} Platform failed 3 consecutive connect attempts, stopped trying to reconnect. { PlatformId=0 }  \n",
      "\n",
      "21DEC2021_10:49:50.770 63785:123145604251648 ERROR blpapi_sessionimpl.cpp:2445 blpapi.session.{6} Failed to start session: Failed to connect \n"
     ]
    },
    {
     "ename": "ConnectionError",
     "evalue": "Cannot connect to Bloomberg",
     "output_type": "error",
     "traceback": [
      "\u001b[0;31m---------------------------------------------------------------------------\u001b[0m",
      "\u001b[0;31mConnectionError\u001b[0m                           Traceback (most recent call last)",
      "\u001b[0;32m/var/folders/xt/w_1ny3gd68s99w6dgxyfd9wm0000gq/T/ipykernel_63785/3579887204.py\u001b[0m in \u001b[0;36m<module>\u001b[0;34m\u001b[0m\n\u001b[0;32m----> 1\u001b[0;31m \u001b[0mblp\u001b[0m\u001b[0;34m.\u001b[0m\u001b[0mbdp\u001b[0m\u001b[0;34m(\u001b[0m\u001b[0mtickers\u001b[0m\u001b[0;34m=\u001b[0m\u001b[0;34m'NVDA US Equity'\u001b[0m\u001b[0;34m,\u001b[0m \u001b[0mflds\u001b[0m\u001b[0;34m=\u001b[0m\u001b[0;34m[\u001b[0m\u001b[0;34m'Security_Name'\u001b[0m\u001b[0;34m,\u001b[0m \u001b[0;34m'GICS_Sector_Name'\u001b[0m\u001b[0;34m]\u001b[0m\u001b[0;34m)\u001b[0m\u001b[0;34m\u001b[0m\u001b[0;34m\u001b[0m\u001b[0m\n\u001b[0m",
      "\u001b[0;32m/Library/Frameworks/Python.framework/Versions/3.10/lib/python3.10/site-packages/xbbg/blp.py\u001b[0m in \u001b[0;36mbdp\u001b[0;34m(tickers, flds, **kwargs)\u001b[0m\n\u001b[1;32m     45\u001b[0m     \u001b[0;32mif\u001b[0m \u001b[0misinstance\u001b[0m\u001b[0;34m(\u001b[0m\u001b[0mflds\u001b[0m\u001b[0;34m,\u001b[0m \u001b[0mstr\u001b[0m\u001b[0;34m)\u001b[0m\u001b[0;34m:\u001b[0m \u001b[0mflds\u001b[0m \u001b[0;34m=\u001b[0m \u001b[0;34m[\u001b[0m\u001b[0mflds\u001b[0m\u001b[0;34m]\u001b[0m\u001b[0;34m\u001b[0m\u001b[0;34m\u001b[0m\u001b[0m\n\u001b[1;32m     46\u001b[0m \u001b[0;34m\u001b[0m\u001b[0m\n\u001b[0;32m---> 47\u001b[0;31m     request = process.create_request(\n\u001b[0m\u001b[1;32m     48\u001b[0m         \u001b[0mservice\u001b[0m\u001b[0;34m=\u001b[0m\u001b[0;34m'//blp/refdata'\u001b[0m\u001b[0;34m,\u001b[0m\u001b[0;34m\u001b[0m\u001b[0;34m\u001b[0m\u001b[0m\n\u001b[1;32m     49\u001b[0m         \u001b[0mrequest\u001b[0m\u001b[0;34m=\u001b[0m\u001b[0;34m'ReferenceDataRequest'\u001b[0m\u001b[0;34m,\u001b[0m\u001b[0;34m\u001b[0m\u001b[0;34m\u001b[0m\u001b[0m\n",
      "\u001b[0;32m/Library/Frameworks/Python.framework/Versions/3.10/lib/python3.10/site-packages/xbbg/core/process.py\u001b[0m in \u001b[0;36mcreate_request\u001b[0;34m(service, request, settings, ovrds, append, **kwargs)\u001b[0m\n\u001b[1;32m     44\u001b[0m         \u001b[0mBloomberg\u001b[0m \u001b[0mrequest\u001b[0m\u001b[0;34m\u001b[0m\u001b[0;34m\u001b[0m\u001b[0m\n\u001b[1;32m     45\u001b[0m     \"\"\"\n\u001b[0;32m---> 46\u001b[0;31m     \u001b[0msrv\u001b[0m \u001b[0;34m=\u001b[0m \u001b[0mconn\u001b[0m\u001b[0;34m.\u001b[0m\u001b[0mbbg_service\u001b[0m\u001b[0;34m(\u001b[0m\u001b[0mservice\u001b[0m\u001b[0;34m=\u001b[0m\u001b[0mservice\u001b[0m\u001b[0;34m,\u001b[0m \u001b[0;34m**\u001b[0m\u001b[0mkwargs\u001b[0m\u001b[0;34m)\u001b[0m\u001b[0;34m\u001b[0m\u001b[0;34m\u001b[0m\u001b[0m\n\u001b[0m\u001b[1;32m     47\u001b[0m     \u001b[0mreq\u001b[0m \u001b[0;34m=\u001b[0m \u001b[0msrv\u001b[0m\u001b[0;34m.\u001b[0m\u001b[0mcreateRequest\u001b[0m\u001b[0;34m(\u001b[0m\u001b[0mrequest\u001b[0m\u001b[0;34m)\u001b[0m\u001b[0;34m\u001b[0m\u001b[0;34m\u001b[0m\u001b[0m\n\u001b[1;32m     48\u001b[0m \u001b[0;34m\u001b[0m\u001b[0m\n",
      "\u001b[0;32m/Library/Frameworks/Python.framework/Versions/3.10/lib/python3.10/site-packages/xbbg/core/conn.py\u001b[0m in \u001b[0;36mbbg_service\u001b[0;34m(service, **kwargs)\u001b[0m\n\u001b[1;32m    148\u001b[0m     \u001b[0;32mif\u001b[0m \u001b[0mserv_sym\u001b[0m \u001b[0;32mnot\u001b[0m \u001b[0;32min\u001b[0m \u001b[0mglobals\u001b[0m\u001b[0;34m(\u001b[0m\u001b[0;34m)\u001b[0m\u001b[0;34m:\u001b[0m\u001b[0;34m\u001b[0m\u001b[0;34m\u001b[0m\u001b[0m\n\u001b[1;32m    149\u001b[0m         \u001b[0mlogger\u001b[0m\u001b[0;34m.\u001b[0m\u001b[0mdebug\u001b[0m\u001b[0;34m(\u001b[0m\u001b[0mlog_info\u001b[0m\u001b[0;34m)\u001b[0m\u001b[0;34m\u001b[0m\u001b[0;34m\u001b[0m\u001b[0m\n\u001b[0;32m--> 150\u001b[0;31m         \u001b[0mbbg_session\u001b[0m\u001b[0;34m(\u001b[0m\u001b[0;34m**\u001b[0m\u001b[0mkwargs\u001b[0m\u001b[0;34m)\u001b[0m\u001b[0;34m.\u001b[0m\u001b[0mopenService\u001b[0m\u001b[0;34m(\u001b[0m\u001b[0mservice\u001b[0m\u001b[0;34m)\u001b[0m\u001b[0;34m\u001b[0m\u001b[0;34m\u001b[0m\u001b[0m\n\u001b[0m\u001b[1;32m    151\u001b[0m         \u001b[0mglobals\u001b[0m\u001b[0;34m(\u001b[0m\u001b[0;34m)\u001b[0m\u001b[0;34m[\u001b[0m\u001b[0mserv_sym\u001b[0m\u001b[0;34m]\u001b[0m \u001b[0;34m=\u001b[0m \u001b[0mbbg_session\u001b[0m\u001b[0;34m(\u001b[0m\u001b[0;34m**\u001b[0m\u001b[0mkwargs\u001b[0m\u001b[0;34m)\u001b[0m\u001b[0;34m.\u001b[0m\u001b[0mgetService\u001b[0m\u001b[0;34m(\u001b[0m\u001b[0mservice\u001b[0m\u001b[0;34m)\u001b[0m\u001b[0;34m\u001b[0m\u001b[0;34m\u001b[0m\u001b[0m\n\u001b[1;32m    152\u001b[0m \u001b[0;34m\u001b[0m\u001b[0m\n",
      "\u001b[0;32m/Library/Frameworks/Python.framework/Versions/3.10/lib/python3.10/site-packages/xbbg/core/conn.py\u001b[0m in \u001b[0;36mbbg_session\u001b[0;34m(**kwargs)\u001b[0m\n\u001b[1;32m    118\u001b[0m \u001b[0;34m\u001b[0m\u001b[0m\n\u001b[1;32m    119\u001b[0m     \u001b[0;32mif\u001b[0m \u001b[0mcon_sym\u001b[0m \u001b[0;32mnot\u001b[0m \u001b[0;32min\u001b[0m \u001b[0mglobals\u001b[0m\u001b[0;34m(\u001b[0m\u001b[0;34m)\u001b[0m\u001b[0;34m:\u001b[0m\u001b[0;34m\u001b[0m\u001b[0;34m\u001b[0m\u001b[0m\n\u001b[0;32m--> 120\u001b[0;31m         \u001b[0mglobals\u001b[0m\u001b[0;34m(\u001b[0m\u001b[0;34m)\u001b[0m\u001b[0;34m[\u001b[0m\u001b[0mcon_sym\u001b[0m\u001b[0;34m]\u001b[0m \u001b[0;34m=\u001b[0m \u001b[0mconnect_bbg\u001b[0m\u001b[0;34m(\u001b[0m\u001b[0;34m**\u001b[0m\u001b[0mkwargs\u001b[0m\u001b[0;34m)\u001b[0m\u001b[0;34m\u001b[0m\u001b[0;34m\u001b[0m\u001b[0m\n\u001b[0m\u001b[1;32m    121\u001b[0m \u001b[0;34m\u001b[0m\u001b[0m\n\u001b[1;32m    122\u001b[0m     \u001b[0;32mreturn\u001b[0m \u001b[0mglobals\u001b[0m\u001b[0;34m(\u001b[0m\u001b[0;34m)\u001b[0m\u001b[0;34m[\u001b[0m\u001b[0mcon_sym\u001b[0m\u001b[0;34m]\u001b[0m\u001b[0;34m\u001b[0m\u001b[0;34m\u001b[0m\u001b[0m\n",
      "\u001b[0;32m/Library/Frameworks/Python.framework/Versions/3.10/lib/python3.10/site-packages/xbbg/core/conn.py\u001b[0m in \u001b[0;36mconnect_bbg\u001b[0;34m(**kwargs)\u001b[0m\n\u001b[1;32m     95\u001b[0m     \u001b[0mlogger\u001b[0m\u001b[0;34m.\u001b[0m\u001b[0mdebug\u001b[0m\u001b[0;34m(\u001b[0m\u001b[0;34m'Connecting to Bloomberg ...'\u001b[0m\u001b[0;34m)\u001b[0m\u001b[0;34m\u001b[0m\u001b[0;34m\u001b[0m\u001b[0m\n\u001b[1;32m     96\u001b[0m     \u001b[0;32mif\u001b[0m \u001b[0msession\u001b[0m\u001b[0;34m.\u001b[0m\u001b[0mstart\u001b[0m\u001b[0;34m(\u001b[0m\u001b[0;34m)\u001b[0m\u001b[0;34m:\u001b[0m \u001b[0;32mreturn\u001b[0m \u001b[0msession\u001b[0m\u001b[0;34m\u001b[0m\u001b[0;34m\u001b[0m\u001b[0m\n\u001b[0;32m---> 97\u001b[0;31m     \u001b[0;32melse\u001b[0m\u001b[0;34m:\u001b[0m \u001b[0;32mraise\u001b[0m \u001b[0mConnectionError\u001b[0m\u001b[0;34m(\u001b[0m\u001b[0;34m'Cannot connect to Bloomberg'\u001b[0m\u001b[0;34m)\u001b[0m\u001b[0;34m\u001b[0m\u001b[0;34m\u001b[0m\u001b[0m\n\u001b[0m\u001b[1;32m     98\u001b[0m \u001b[0;34m\u001b[0m\u001b[0m\n\u001b[1;32m     99\u001b[0m \u001b[0;34m\u001b[0m\u001b[0m\n",
      "\u001b[0;31mConnectionError\u001b[0m: Cannot connect to Bloomberg"
     ]
    }
   ],
   "source": [
    "blp.bdp(tickers='NVDA US Equity', flds=['Security_Name', 'GICS_Sector_Name'])"
   ]
  },
  {
   "cell_type": "code",
   "execution_count": 15,
   "id": "c7c1415b",
   "metadata": {},
   "outputs": [],
   "source": [
    "import blpapi"
   ]
  },
  {
   "cell_type": "code",
   "execution_count": 16,
   "id": "0854eeae",
   "metadata": {},
   "outputs": [
    {
     "name": "stdout",
     "output_type": "stream",
     "text": [
      "\n",
      "21DEC2021_10:47:33.158 63785:123145599983616 WARN apicm_apiconnector.cpp:395 ApiConnector::socketConnectorCallback localhost: Failed to connect to 127.0.0.1:8194, status=1, error 8 connect event failed \n",
      "\n",
      "21DEC2021_10:47:33.161 63785:123145599983616 WARN blpapi_platformtransporttcp.cpp:151 blpapi.session.transporttcp.{5}.<localhost:8194> { platformId=0 } 127.0.0.1, session pool state=Failed \n",
      "\n",
      "21DEC2021_10:47:36.166 63785:123145599983616 WARN apicm_apiconnector.cpp:395 ApiConnector::socketConnectorCallback localhost: Failed to connect to 127.0.0.1:8194, status=1, error 8 connect event failed \n",
      "\n",
      "21DEC2021_10:47:36.166 63785:123145599983616 WARN blpapi_platformtransporttcp.cpp:151 blpapi.session.transporttcp.{5}.<localhost:8194> { platformId=0 } 127.0.0.1, session pool state=Failed \n",
      "\n",
      "21DEC2021_10:47:39.173 63785:123145599983616 WARN apicm_apiconnector.cpp:395 ApiConnector::socketConnectorCallback localhost: Failed to connect to 127.0.0.1:8194, status=1, error 8 connect event failed \n",
      "\n",
      "21DEC2021_10:47:39.173 63785:123145599983616 WARN blpapi_platformtransporttcp.cpp:151 blpapi.session.transporttcp.{5}.<localhost:8194> { platformId=0 } 127.0.0.1, session pool state=Failed \n",
      "\n",
      "21DEC2021_10:47:39.173 63785:123145599983616 WARN blpapi_platformcontroller.cpp:634 blpapi.session.platformcontroller.{5} Platform failed 3 consecutive connect attempts, stopped trying to reconnect. { PlatformId=0 }  \n",
      "\n",
      "21DEC2021_10:47:39.174 63785:123145602117632 ERROR blpapi_sessionimpl.cpp:2445 blpapi.session.{5} Failed to start session: Failed to connect \n"
     ]
    },
    {
     "data": {
      "text/plain": [
       "False"
      ]
     },
     "execution_count": 16,
     "metadata": {},
     "output_type": "execute_result"
    }
   ],
   "source": [
    "options = blpapi.SessionOptions()\n",
    "options.setServerHost('localhost')\n",
    "options.setServerPort(8194)\n",
    "session = blpapi.Session(options)\n",
    "session.start()"
   ]
  },
  {
   "cell_type": "code",
   "execution_count": null,
   "id": "76cf89a6",
   "metadata": {},
   "outputs": [],
   "source": []
  }
 ],
 "metadata": {
  "kernelspec": {
   "display_name": "Python 3 (ipykernel)",
   "language": "python",
   "name": "python3"
  },
  "language_info": {
   "codemirror_mode": {
    "name": "ipython",
    "version": 3
   },
   "file_extension": ".py",
   "mimetype": "text/x-python",
   "name": "python",
   "nbconvert_exporter": "python",
   "pygments_lexer": "ipython3",
   "version": "3.10.0"
  }
 },
 "nbformat": 4,
 "nbformat_minor": 5
}
